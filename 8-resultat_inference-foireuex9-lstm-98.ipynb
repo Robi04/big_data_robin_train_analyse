{
 "cells": [
  {
   "cell_type": "markdown",
   "metadata": {},
   "source": [
    "### Import des libraires\n",
    "- Pandas : gestion heterogène array\n",
    "- Numpy : gestion homogène array\n",
    "- Torch : ML/DL pour création de nn, transformation audio\n",
    "- Matplotlib : Pour plot des données\n",
    "- Tqdm : bar de chargement entrainement"
   ]
  },
  {
   "cell_type": "code",
   "execution_count": 136,
   "metadata": {},
   "outputs": [],
   "source": [
    "import csv\n",
    "import os\n",
    "from pathlib import Path\n",
    "\n",
    "import torch\n",
    "from torch import Tensor\n",
    "import torch.nn as nn\n",
    "from torch import optim\n",
    "import torch.nn.functional as F\n",
    "from typing import Dict, List, Tuple, Union\n",
    "\n",
    "from torch.utils.data import Dataset, DataLoader, TensorDataset\n",
    "import torchvision.datasets as datasets\n",
    "import torchvision.transforms as transforms\n",
    "\n",
    "from torchaudio.transforms import MelSpectrogram\n",
    "import torchaudio\n",
    "\n",
    "import pandas as pd\n",
    "import numpy as np\n",
    "import matplotlib.pyplot as plt\n",
    "import torchaudio.transforms as T\n",
    "\n",
    "from tqdm import tqdm\n",
    "\n"
   ]
  },
  {
   "cell_type": "markdown",
   "metadata": {},
   "source": [
    "On définit le device sur mps étant sur un silicon pour faire de la parralélisation"
   ]
  },
  {
   "cell_type": "code",
   "execution_count": 137,
   "metadata": {},
   "outputs": [],
   "source": [
    "device = torch.device(\"mps\")"
   ]
  },
  {
   "cell_type": "markdown",
   "metadata": {},
   "source": [
    "### Dataset\n",
    "Contexte de la donnée:\n",
    "On a 3 datasets utilisable : test, train, validated. J'ai donc décidé de les concaténer pour finalement avoir un dataset beaucoup plus grand comme ça on facilite la segmentation de la donnée : 80/20%\n",
    "\n",
    "- Récupération de la donnée dans les fichier tsv\n",
    "- Cleanning de la data (Valeurs null ou à 0)\n",
    "- Filtre données : on ne garde que les target = 1, 2, 3 ou 4"
   ]
  },
  {
   "cell_type": "code",
   "execution_count": 138,
   "metadata": {},
   "outputs": [
    {
     "name": "stdout",
     "output_type": "stream",
     "text": [
      "validate rows: 18564\n"
     ]
    },
    {
     "name": "stderr",
     "output_type": "stream",
     "text": [
      "/var/folders/j3/tchtxx29319gbp_dsgcljm800000gn/T/ipykernel_16056/1216890802.py:15: SettingWithCopyWarning: \n",
      "A value is trying to be set on a copy of a slice from a DataFrame\n",
      "\n",
      "See the caveats in the documentation: https://pandas.pydata.org/pandas-docs/stable/user_guide/indexing.html#returning-a-view-versus-a-copy\n",
      "  validate_data_numbers.dropna(subset=['sentence', 'path'], inplace=True)\n"
     ]
    }
   ],
   "source": [
    "# train_data = pd.read_csv('data/cv-corpus-7.0-singleword/fr/train.tsv',sep='\\t')\n",
    "# train_data[['path', 'sentence']] = train_data[['path', 'sentence']].replace('', np.nan)\n",
    "# train_data_numbers = train_data\n",
    "\n",
    "# test_data = pd.read_csv('data/cv-corpus-7.0-singleword/fr/test2.tsv',sep='\\t')\n",
    "# test_data[['path', 'sentence']] = test_data[['path', 'sentence']].replace('', np.nan)\n",
    "# test_data_numbers = test_data\n",
    "\n",
    "validate_data = pd.read_csv('data/cv-corpus-7.0-singleword/fr/validated.tsv',sep='\\t')\n",
    "validate_data[['path', 'sentence']] = validate_data[['path', 'sentence']].replace('', np.nan)\n",
    "validate_data_numbers = validate_data[validate_data['sentence']!='sept']\n",
    "\n",
    "# train_data_numbers.dropna(subset=['sentence', 'path'], inplace=True)\n",
    "# test_data_numbers.dropna(subset=['sentence', 'path'], inplace=True)\n",
    "validate_data_numbers.dropna(subset=['sentence', 'path'], inplace=True)\n",
    "\n",
    "# print(f\"train rows: {train_data_numbers.shape[0]}\")\n",
    "# print(f\"test rows: {test_data_numbers.shape[0]}\")\n",
    "print(f\"validate rows: {validate_data_numbers.shape[0]}\")\n",
    "\n"
   ]
  },
  {
   "cell_type": "code",
   "execution_count": 139,
   "metadata": {},
   "outputs": [
    {
     "data": {
      "text/html": [
       "<div>\n",
       "<style scoped>\n",
       "    .dataframe tbody tr th:only-of-type {\n",
       "        vertical-align: middle;\n",
       "    }\n",
       "\n",
       "    .dataframe tbody tr th {\n",
       "        vertical-align: top;\n",
       "    }\n",
       "\n",
       "    .dataframe thead th {\n",
       "        text-align: right;\n",
       "    }\n",
       "</style>\n",
       "<table border=\"1\" class=\"dataframe\">\n",
       "  <thead>\n",
       "    <tr style=\"text-align: right;\">\n",
       "      <th></th>\n",
       "      <th>client_id</th>\n",
       "      <th>path</th>\n",
       "      <th>sentence</th>\n",
       "      <th>up_votes</th>\n",
       "      <th>down_votes</th>\n",
       "      <th>age</th>\n",
       "      <th>gender</th>\n",
       "      <th>accent</th>\n",
       "      <th>locale</th>\n",
       "      <th>segment</th>\n",
       "    </tr>\n",
       "  </thead>\n",
       "  <tbody>\n",
       "    <tr>\n",
       "      <th>0</th>\n",
       "      <td>02ccda0cd258d89228fc66cb072eb9bafbb1ae9f39dc8b...</td>\n",
       "      <td>common_voice_fr_23890678.mp3</td>\n",
       "      <td>huit</td>\n",
       "      <td>2</td>\n",
       "      <td>0</td>\n",
       "      <td>NaN</td>\n",
       "      <td>NaN</td>\n",
       "      <td>NaN</td>\n",
       "      <td>fr</td>\n",
       "      <td>Benchmark</td>\n",
       "    </tr>\n",
       "    <tr>\n",
       "      <th>1</th>\n",
       "      <td>05a87054181791477a299a08fc35a6ff0c53250cae313e...</td>\n",
       "      <td>common_voice_fr_22108074.mp3</td>\n",
       "      <td>zéro</td>\n",
       "      <td>2</td>\n",
       "      <td>0</td>\n",
       "      <td>NaN</td>\n",
       "      <td>NaN</td>\n",
       "      <td>NaN</td>\n",
       "      <td>fr</td>\n",
       "      <td>Benchmark</td>\n",
       "    </tr>\n",
       "    <tr>\n",
       "      <th>2</th>\n",
       "      <td>06c9c9e703dfa759edf4836936b42a07afd1021cedb06c...</td>\n",
       "      <td>common_voice_fr_22098482.mp3</td>\n",
       "      <td>trois</td>\n",
       "      <td>2</td>\n",
       "      <td>0</td>\n",
       "      <td>NaN</td>\n",
       "      <td>NaN</td>\n",
       "      <td>NaN</td>\n",
       "      <td>fr</td>\n",
       "      <td>Benchmark</td>\n",
       "    </tr>\n",
       "    <tr>\n",
       "      <th>3</th>\n",
       "      <td>07a7db773acd156dd0b7fdc32f6b5eda9b32ffa1b3aee7...</td>\n",
       "      <td>common_voice_fr_21955578.mp3</td>\n",
       "      <td>quatre</td>\n",
       "      <td>6</td>\n",
       "      <td>3</td>\n",
       "      <td>NaN</td>\n",
       "      <td>NaN</td>\n",
       "      <td>NaN</td>\n",
       "      <td>fr</td>\n",
       "      <td>Benchmark</td>\n",
       "    </tr>\n",
       "    <tr>\n",
       "      <th>4</th>\n",
       "      <td>0eb85c7dcb9b7ca2caec05a0dbbf6ee983cfab19164dac...</td>\n",
       "      <td>common_voice_fr_22157149.mp3</td>\n",
       "      <td>Firefox</td>\n",
       "      <td>3</td>\n",
       "      <td>1</td>\n",
       "      <td>NaN</td>\n",
       "      <td>NaN</td>\n",
       "      <td>NaN</td>\n",
       "      <td>fr</td>\n",
       "      <td>Benchmark</td>\n",
       "    </tr>\n",
       "  </tbody>\n",
       "</table>\n",
       "</div>"
      ],
      "text/plain": [
       "                                           client_id  \\\n",
       "0  02ccda0cd258d89228fc66cb072eb9bafbb1ae9f39dc8b...   \n",
       "1  05a87054181791477a299a08fc35a6ff0c53250cae313e...   \n",
       "2  06c9c9e703dfa759edf4836936b42a07afd1021cedb06c...   \n",
       "3  07a7db773acd156dd0b7fdc32f6b5eda9b32ffa1b3aee7...   \n",
       "4  0eb85c7dcb9b7ca2caec05a0dbbf6ee983cfab19164dac...   \n",
       "\n",
       "                           path sentence  up_votes  down_votes  age gender  \\\n",
       "0  common_voice_fr_23890678.mp3     huit         2           0  NaN    NaN   \n",
       "1  common_voice_fr_22108074.mp3     zéro         2           0  NaN    NaN   \n",
       "2  common_voice_fr_22098482.mp3    trois         2           0  NaN    NaN   \n",
       "3  common_voice_fr_21955578.mp3   quatre         6           3  NaN    NaN   \n",
       "4  common_voice_fr_22157149.mp3  Firefox         3           1  NaN    NaN   \n",
       "\n",
       "  accent locale    segment  \n",
       "0    NaN     fr  Benchmark  \n",
       "1    NaN     fr  Benchmark  \n",
       "2    NaN     fr  Benchmark  \n",
       "3    NaN     fr  Benchmark  \n",
       "4    NaN     fr  Benchmark  "
      ]
     },
     "execution_count": 139,
     "metadata": {},
     "output_type": "execute_result"
    }
   ],
   "source": [
    "validate_data_numbers.head(5)"
   ]
  },
  {
   "cell_type": "code",
   "execution_count": 140,
   "metadata": {},
   "outputs": [
    {
     "name": "stdout",
     "output_type": "stream",
     "text": [
      "sentence\n",
      "deux       1492\n",
      "zéro       1471\n",
      "trois      1453\n",
      "quatre     1445\n",
      "cinq       1445\n",
      "oui        1440\n",
      "non        1439\n",
      "six        1430\n",
      "neuf       1428\n",
      "Hey        1397\n",
      "un         1383\n",
      "huit       1376\n",
      "Firefox    1365\n",
      "Name: count, dtype: int64\n"
     ]
    }
   ],
   "source": [
    "\n",
    "print(validate_data_numbers['sentence'].value_counts())"
   ]
  },
  {
   "cell_type": "markdown",
   "metadata": {},
   "source": [
    "### Fonction pour load les mp3\n",
    "```python3  \n",
    "def Load_waveform() \n",
    "```\n",
    "Convertit un mp3 en waveform (manipulable en code)\n",
    "\n",
    "-----------------------------------------------------------------------------\n",
    "\n",
    "```python3  \n",
    "def Load_waveformes() \n",
    "```\n",
    "Itère dans les 3 datasets et convertit tous les fichiers"
   ]
  },
  {
   "cell_type": "code",
   "execution_count": 141,
   "metadata": {},
   "outputs": [],
   "source": [
    "def load_waveform(mp3_file):\n",
    "    waveform, sample_rate = torchaudio.load(mp3_file, format='mp3')\n",
    "    return waveform, sample_rate\n",
    "\n",
    "def load_waveformes(df,waveformes,targets):\n",
    "    for mp3_path in df['path']:\n",
    "        waveform, _ = load_waveform(f'data/cv-corpus-7.0-singleword/fr/clips/{mp3_path}')\n",
    "        waveformes.append(waveform)\n",
    "        targets.append(df[df['path'] == mp3_path]['sentence'].values[0])\n"
   ]
  },
  {
   "cell_type": "markdown",
   "metadata": {},
   "source": [
    "### Création des array contenant toutes nos données \n",
    "On pourra transformer ces array en TorchDataset plus tard ce qui va faciliter la compréhension"
   ]
  },
  {
   "cell_type": "code",
   "execution_count": 142,
   "metadata": {},
   "outputs": [],
   "source": [
    "waveformes = []\n",
    "targets = []\n",
    "\n",
    "# load_waveformes(train_data_numbers,waveformes,targets)\n",
    "# load_waveformes(test_data_numbers,waveformes,targets)\n",
    "load_waveformes(validate_data_numbers,waveformes,targets)\n",
    "\n",
    "print(f\"waveformes: {len(waveformes)}\")\n",
    "print(f\"targets: {len(targets)}\")"
   ]
  },
  {
   "cell_type": "markdown",
   "metadata": {},
   "source": [
    "### Petit check si les données sont bien équilibré \n",
    "Si le nombre de données est différent d'une classe à l'autre alors notre modèle sera biaisé "
   ]
  },
  {
   "cell_type": "code",
   "execution_count": null,
   "metadata": {},
   "outputs": [
    {
     "data": {
      "text/plain": [
       "([<matplotlib.axis.XTick at 0x6813e4210>,\n",
       "  <matplotlib.axis.XTick at 0x287c83190>,\n",
       "  <matplotlib.axis.XTick at 0x6815b1a90>,\n",
       "  <matplotlib.axis.XTick at 0x282be00d0>,\n",
       "  <matplotlib.axis.XTick at 0x282be0c10>,\n",
       "  <matplotlib.axis.XTick at 0x282be3e10>,\n",
       "  <matplotlib.axis.XTick at 0x282bee150>,\n",
       "  <matplotlib.axis.XTick at 0x282bf04d0>,\n",
       "  <matplotlib.axis.XTick at 0x282bf25d0>,\n",
       "  <matplotlib.axis.XTick at 0x282bf1390>,\n",
       "  <matplotlib.axis.XTick at 0x282bf5290>,\n",
       "  <matplotlib.axis.XTick at 0x282bf7510>,\n",
       "  <matplotlib.axis.XTick at 0x282bfd510>,\n",
       "  <matplotlib.axis.XTick at 0x282bff750>],\n",
       " [Text(1, 0, '1'),\n",
       "  Text(2, 0, '2'),\n",
       "  Text(3, 0, '3'),\n",
       "  Text(4, 0, '4'),\n",
       "  Text(5, 0, '5'),\n",
       "  Text(6, 0, '6'),\n",
       "  Text(7, 0, '7'),\n",
       "  Text(8, 0, '8'),\n",
       "  Text(9, 0, '9'),\n",
       "  Text(10, 0, '10'),\n",
       "  Text(11, 0, '11'),\n",
       "  Text(12, 0, '12'),\n",
       "  Text(13, 0, '13'),\n",
       "  Text(14, 0, '14')])"
      ]
     },
     "execution_count": 89,
     "metadata": {},
     "output_type": "execute_result"
    },
    {
     "data": {
      "image/png": "[encoded data removed]",
      "text/plain": [
       "<Figure size 640x480 with 1 Axes>"
      ]
     },
     "metadata": {},
     "output_type": "display_data"
    }
   ],
   "source": [
    "count=pd.Series(targets).value_counts()\n",
    "plt.bar(count.index,count.values)\n",
    "plt.xscale('linear')\n",
    "plt.xticks(range(1,15,1))"
   ]
  },
  {
   "cell_type": "markdown",
   "metadata": {},
   "source": [
    "### String -> Numeric\n",
    "On va map nos données target pour faciliter l'entrainement de notre modèle\n",
    "Celui-ci va prédir une donnée numérique en output et on calculera la loss par rapport à la value de la classe correspondante"
   ]
  },
  {
   "cell_type": "code",
   "execution_count": null,
   "metadata": {},
   "outputs": [],
   "source": [
    "map = {\n",
    "    'un': 1,\n",
    "    'deux': 2,\n",
    "    'trois': 3,\n",
    "    'quatre': 4\n",
    "}\n",
    "\n",
    "targets = [map[i] for i in targets]"
   ]
  },
  {
   "cell_type": "markdown",
   "metadata": {},
   "source": [
    "### Transformation de nos waveform en spectrogram"
   ]
  },
  {
   "cell_type": "code",
   "execution_count": null,
   "metadata": {},
   "outputs": [],
   "source": [
    "transform = MelSpectrogram(sample_rate=48000, n_mels=40, n_fft=512, hop_length=256)\n",
    "spectrograms = [transform(wave).squeeze(0) for wave in waveformes]"
   ]
  },
  {
   "cell_type": "markdown",
   "metadata": {},
   "source": [
    "### Normalisation des données (Pour un CNN 25% -> 75% avec une normalisation standard)"
   ]
  },
  {
   "cell_type": "code",
   "execution_count": null,
   "metadata": {},
   "outputs": [],
   "source": [
    "def normalize_spectrograms(spectrograms):\n",
    "    normalized_spectrograms = []\n",
    "    for s in spectrograms:\n",
    "        mean = s.mean()\n",
    "        std = s.std()\n",
    "        normalized_spectrograms.append((s - mean) / std)\n",
    "    return normalized_spectrograms\n",
    "\n",
    "spectrograms = normalize_spectrograms(spectrograms)"
   ]
  },
  {
   "cell_type": "code",
   "execution_count": null,
   "metadata": {},
   "outputs": [
    {
     "name": "stdout",
     "output_type": "stream",
     "text": [
      "torch.Size([40, 977])\n"
     ]
    }
   ],
   "source": [
    "print(spectrograms[1].shape)"
   ]
  },
  {
   "cell_type": "code",
   "execution_count": null,
   "metadata": {},
   "outputs": [
    {
     "name": "stdout",
     "output_type": "stream",
     "text": [
      "torch.Size([40, 374])\n",
      "374\n"
     ]
    }
   ],
   "source": [
    "print(spectrograms[0].shape)\n",
    "print(spectrograms[0].shape[1])"
   ]
  },
  {
   "cell_type": "code",
   "execution_count": null,
   "metadata": {},
   "outputs": [
    {
     "name": "stdout",
     "output_type": "stream",
     "text": [
      "2296\n"
     ]
    }
   ],
   "source": [
    "max = 0\n",
    "for mel in spectrograms:\n",
    "    if mel.shape[1] > max:\n",
    "        max = mel.shape[1]\n",
    "print(max)"
   ]
  },
  {
   "cell_type": "markdown",
   "metadata": {},
   "source": [
    "### On transpose notre tensor pour avoir les time frame en première dimension "
   ]
  },
  {
   "cell_type": "code",
   "execution_count": null,
   "metadata": {},
   "outputs": [
    {
     "name": "stdout",
     "output_type": "stream",
     "text": [
      "torch.Size([374, 40])\n"
     ]
    }
   ],
   "source": [
    "spectrograms = [mel.transpose(0, 1) for mel in spectrograms]\n",
    "print(spectrograms[0].shape)"
   ]
  },
  {
   "cell_type": "code",
   "execution_count": null,
   "metadata": {},
   "outputs": [
    {
     "data": {
      "image/png": "[encoded data removed]",
      "text/plain": [
       "<Figure size 640x480 with 2 Axes>"
      ]
     },
     "metadata": {},
     "output_type": "display_data"
    }
   ],
   "source": [
    "def plot_spectrogram(spec, title=None, ylabel='Frequency Bins', aspect='auto', xmax=None):\n",
    "    \"\"\"\n",
    "    Plots a spectrogram with the time axis on the x-axis and frequency bins on the y-axis.\n",
    "    \n",
    "    Parameters:\n",
    "        spec (np.ndarray or torch.Tensor): The spectrogram tensor/array.\n",
    "        title (str, optional): Title of the plot.\n",
    "        ylabel (str, optional): Label for the y-axis.\n",
    "        aspect (str, optional): Aspect ratio of the plot. 'auto' fills the axes with the data.\n",
    "        xmax (int, optional): Maximum value for the x-axis (time axis).\n",
    "    \"\"\"\n",
    "    # Transform amplitude spectrogram to decibel scale\n",
    "    spec_to_db = T.AmplitudeToDB(stype='power')\n",
    "    spec_db = spec_to_db(spec)\n",
    "\n",
    "    # Check if the input is a tensor and convert to numpy for plotting\n",
    "    if isinstance(spec_db, torch.Tensor):\n",
    "        spec_db = spec_db.numpy()\n",
    "\n",
    "    # Transpose the spectrogram to align time on the x-axis and frequency bins on the y-axis\n",
    "    spec_db = spec_db.T  # now the shape should be [time, frequency]\n",
    "\n",
    "    # Create the plot\n",
    "    fig, axs = plt.subplots(1, 1)\n",
    "    axs.set_title(title or 'Spectrogram (dB)')\n",
    "    axs.set_ylabel(ylabel)\n",
    "    axs.set_xlabel('Time Frame')\n",
    "    \n",
    "    # Adjust the extent to properly scale the axes, with time on the x-axis and frequency on the y-axis\n",
    "    cax = axs.imshow(spec_db, aspect=aspect, origin='lower',\n",
    "                     extent=[0, spec_db.shape[1], 0, spec_db.shape[0]],\n",
    "                     cmap='inferno')\n",
    "    \n",
    "    # Set maximum x-axis value if provided\n",
    "    if xmax:\n",
    "        axs.set_xlim([0, xmax])\n",
    "    \n",
    "    # Add a colorbar to the plot to indicate the decibel scale\n",
    "    fig.colorbar(cax, label='Decibel (dB)')\n",
    "    plt.show()\n",
    "\n",
    "plot_spectrogram(spectrograms[0].squeeze(0), title=targets[0])"
   ]
  },
  {
   "cell_type": "markdown",
   "metadata": {},
   "source": [
    "### Padding \n",
    "Pour avoir des séquence de même données "
   ]
  },
  {
   "cell_type": "code",
   "execution_count": null,
   "metadata": {},
   "outputs": [],
   "source": [
    "def pad(spectrograms, max_size):\n",
    "    padded_spectrograms = []\n",
    "    for mel in spectrograms:\n",
    "        current_size = mel.shape[0]\n",
    "        if current_size < max_size:\n",
    "            total_pad = max_size - current_size\n",
    "            pad_top = total_pad // 2\n",
    "            pad_bottom = total_pad - pad_top\n",
    "            padded_mel = F.pad(mel, (0, 0, pad_top, pad_bottom))\n",
    "        else:\n",
    "            padded_mel = mel\n",
    "        padded_spectrograms.append(padded_mel)\n",
    "    return padded_spectrograms\n",
    "\n",
    "padded_spectrograms = pad(spectrograms,max)"
   ]
  },
  {
   "cell_type": "markdown",
   "metadata": {},
   "source": [
    "### Création d'audio null"
   ]
  },
  {
   "cell_type": "markdown",
   "metadata": {},
   "source": [
    "#### Ajout aux au listes servant de dataset "
   ]
  },
  {
   "cell_type": "markdown",
   "metadata": {},
   "source": [
    "### Séparation 80/20"
   ]
  },
  {
   "cell_type": "code",
   "execution_count": null,
   "metadata": {},
   "outputs": [],
   "source": [
    "from sklearn.model_selection import train_test_split\n",
    "X_train, X_test, y_train, y_test = train_test_split(padded_spectrograms, targets, test_size=0.2, random_state=42)"
   ]
  },
  {
   "cell_type": "code",
   "execution_count": null,
   "metadata": {},
   "outputs": [
    {
     "name": "stdout",
     "output_type": "stream",
     "text": [
      "14851\n",
      "3713\n"
     ]
    }
   ],
   "source": [
    "print(len(X_train))\n",
    "print(len(X_test))"
   ]
  },
  {
   "cell_type": "code",
   "execution_count": null,
   "metadata": {},
   "outputs": [
    {
     "name": "stdout",
     "output_type": "stream",
     "text": [
      "14851\n",
      "3713\n"
     ]
    }
   ],
   "source": [
    "# Stack permet de transformer une liste de tensor en un seul tensor\n",
    "X_train_tensor = torch.stack(X_train)\n",
    "X_test_tensor = torch.stack(X_test)  \n",
    "\n",
    "y_train_tensor = torch.tensor(y_train).long() \n",
    "y_test_tensor = torch.tensor(y_test).long()\n",
    "\n",
    "train_dataset = TensorDataset(X_train_tensor, y_train_tensor)\n",
    "test_dataset = TensorDataset(X_test_tensor, y_test_tensor)\n",
    "print(len(train_dataset))\n",
    "print(len(test_dataset))"
   ]
  },
  {
   "cell_type": "code",
   "execution_count": null,
   "metadata": {},
   "outputs": [],
   "source": [
    "batch_size = 128\n",
    "train_loader = DataLoader(train_dataset, batch_size=batch_size, shuffle=True)\n",
    "test_loader = DataLoader(test_dataset, batch_size=batch_size, shuffle=True, drop_last=True)\n"
   ]
  },
  {
   "cell_type": "markdown",
   "metadata": {},
   "source": [
    "## LSTM"
   ]
  },
  {
   "cell_type": "code",
   "execution_count": null,
   "metadata": {},
   "outputs": [],
   "source": [
    "class LSTM(nn.Module):\n",
    "    def __init__(self, input_size, hidden_size, num_layers, num_classes, sequence_length, dropout):\n",
    "        super(LSTM, self).__init__()\n",
    "        self.input_size = input_size\n",
    "        self.hidden_size = hidden_size\n",
    "        self.num_layers = num_layers\n",
    "        self.num_classes = num_classes\n",
    "        self.sequence_length = sequence_length\n",
    "        self.dropout = dropout\n",
    "        \n",
    "        self.lstm = nn.LSTM(input_size, hidden_size, num_layers, batch_first=True, dropout=dropout)\n",
    "        self.fc = nn.Linear(hidden_size*sequence_length, num_classes)\n",
    "        \n",
    "    def forward(self, x):\n",
    "        h0 = torch.zeros(self.num_layers, x.size(0), self.hidden_size).to(device)\n",
    "        c0 = torch.zeros(self.num_layers, x.size(0), self.hidden_size).to(device)\n",
    "        \n",
    "        out, (_,_) = self.lstm(x, (h0, c0))\n",
    "        # out = self.fc(out[:, -1, :])\n",
    "        out = out.reshape(out.shape[0], -1)\n",
    "        out = self.fc(out)\n",
    "        return out"
   ]
  },
  {
   "cell_type": "code",
   "execution_count": null,
   "metadata": {},
   "outputs": [],
   "source": [
    "acc = []\n",
    "def train_lstm(model, train_loader, optimizer, criterion, epochs=5):\n",
    "    for epoch in range(epochs):\n",
    "        model.train()\n",
    "        running_loss = 0.0\n",
    "        with tqdm(train_loader, unit=\"batch\") as tepoch:\n",
    "            for spectrograms, labels in tepoch:\n",
    "                tepoch.set_description(f\"Epoch {epoch+1}\")\n",
    "                spectrograms = spectrograms.to(device)\n",
    "                labels = labels.to(device)\n",
    "                outputs = model(spectrograms)  \n",
    "                loss = criterion(outputs, labels)\n",
    "\n",
    "                optimizer.zero_grad()\n",
    "                loss.backward()\n",
    "                optimizer.step()\n",
    "\n",
    "                running_loss += loss.item()\n",
    "                tepoch.set_postfix(loss=loss.item())\n",
    "        \n",
    "        # Average loss for this epoch\n",
    "        average_loss = running_loss / len(train_loader)\n",
    "        print(f\"Epoch {epoch+1} completed: Avg. Loss: {average_loss:.4f}\")\n",
    "        acc.append(average_loss)"
   ]
  },
  {
   "cell_type": "code",
   "execution_count": null,
   "metadata": {},
   "outputs": [],
   "source": [
    "def test_lstm(model, test_loader):\n",
    "    with torch.no_grad():\n",
    "        acc_total = 0\n",
    "        model.eval()\n",
    "        for spectrograms, labels in test_loader:\n",
    "            spectrograms = spectrograms.to(device)\n",
    "            labels = labels.to(device)\n",
    "            outputs = model(spectrograms)\n",
    "            _, predicted = torch.max(outputs, 1)\n",
    "            acc_total += (predicted==labels).sum().item()/len(labels)\n",
    "        print(f\"Accuracy: {acc_total/len(test_loader)}\")"
   ]
  },
  {
   "cell_type": "code",
   "execution_count": null,
   "metadata": {},
   "outputs": [],
   "source": [
    "train_mask = (y_train_tensor == 1) | (y_train_tensor == 2)\n",
    "test_mask = (y_test_tensor == 1) | (y_test_tensor == 2)\n",
    "\n",
    "X_train_filtered = X_train_tensor[train_mask]\n",
    "y_train_filtered = y_train_tensor[train_mask]\n",
    "X_test_filtered = X_test_tensor[test_mask]\n",
    "y_test_filtered = y_test_tensor[test_mask]\n",
    "\n",
    "train_dataset = TensorDataset(X_train_filtered, y_train_filtered)\n",
    "test_dataset = TensorDataset(X_test_filtered, y_test_filtered)\n",
    "\n",
    "batch_size = 128\n",
    "train_loader = DataLoader(train_dataset, batch_size=batch_size, shuffle=True)\n",
    "test_loader = DataLoader(test_dataset, batch_size=batch_size, shuffle=True, drop_last=True)"
   ]
  },
  {
   "cell_type": "code",
   "execution_count": null,
   "metadata": {},
   "outputs": [
    {
     "ename": "RuntimeError",
     "evalue": "Error(s) in loading state_dict for LSTM:\n\tsize mismatch for fc.weight: copying a param with shape torch.Size([13, 114800]) from checkpoint, the shape in current model is torch.Size([15, 114800]).\n\tsize mismatch for fc.bias: copying a param with shape torch.Size([13]) from checkpoint, the shape in current model is torch.Size([15]).",
     "output_type": "error",
     "traceback": [
      "\u001b[0;31m---------------------------------------------------------------------------\u001b[0m",
      "\u001b[0;31mRuntimeError\u001b[0m                              Traceback (most recent call last)",
      "Cell \u001b[0;32mIn[133], line 14\u001b[0m\n\u001b[1;32m     12\u001b[0m lstm \u001b[38;5;241m=\u001b[39m LSTM(input_size, hidden_size, num_layers, num_classes, sequence_length, dropout)\n\u001b[1;32m     13\u001b[0m \u001b[38;5;66;03m# lstm = torch.load('new-lstm-15epch-15clas-88acc.pth')\u001b[39;00m\n\u001b[0;32m---> 14\u001b[0m \u001b[43mlstm\u001b[49m\u001b[38;5;241;43m.\u001b[39;49m\u001b[43mload_state_dict\u001b[49m\u001b[43m(\u001b[49m\u001b[43mtorch\u001b[49m\u001b[38;5;241;43m.\u001b[39;49m\u001b[43mload\u001b[49m\u001b[43m(\u001b[49m\u001b[38;5;124;43m'\u001b[39;49m\u001b[38;5;124;43mnew-lstm-15epch-15clas-88acc-weights.pth\u001b[39;49m\u001b[38;5;124;43m'\u001b[39;49m\u001b[43m)\u001b[49m\u001b[43m)\u001b[49m\n\u001b[1;32m     15\u001b[0m lstm\u001b[38;5;241m.\u001b[39mto(device)\n\u001b[1;32m     17\u001b[0m criterion \u001b[38;5;241m=\u001b[39m nn\u001b[38;5;241m.\u001b[39mCrossEntropyLoss()\n",
      "File \u001b[0;32m~/.pyenv/versions/3.11.8/lib/python3.11/site-packages/torch/nn/modules/module.py:2153\u001b[0m, in \u001b[0;36mModule.load_state_dict\u001b[0;34m(self, state_dict, strict, assign)\u001b[0m\n\u001b[1;32m   2148\u001b[0m         error_msgs\u001b[38;5;241m.\u001b[39minsert(\n\u001b[1;32m   2149\u001b[0m             \u001b[38;5;241m0\u001b[39m, \u001b[38;5;124m'\u001b[39m\u001b[38;5;124mMissing key(s) in state_dict: \u001b[39m\u001b[38;5;132;01m{}\u001b[39;00m\u001b[38;5;124m. \u001b[39m\u001b[38;5;124m'\u001b[39m\u001b[38;5;241m.\u001b[39mformat(\n\u001b[1;32m   2150\u001b[0m                 \u001b[38;5;124m'\u001b[39m\u001b[38;5;124m, \u001b[39m\u001b[38;5;124m'\u001b[39m\u001b[38;5;241m.\u001b[39mjoin(\u001b[38;5;124mf\u001b[39m\u001b[38;5;124m'\u001b[39m\u001b[38;5;124m\"\u001b[39m\u001b[38;5;132;01m{\u001b[39;00mk\u001b[38;5;132;01m}\u001b[39;00m\u001b[38;5;124m\"\u001b[39m\u001b[38;5;124m'\u001b[39m \u001b[38;5;28;01mfor\u001b[39;00m k \u001b[38;5;129;01min\u001b[39;00m missing_keys)))\n\u001b[1;32m   2152\u001b[0m \u001b[38;5;28;01mif\u001b[39;00m \u001b[38;5;28mlen\u001b[39m(error_msgs) \u001b[38;5;241m>\u001b[39m \u001b[38;5;241m0\u001b[39m:\n\u001b[0;32m-> 2153\u001b[0m     \u001b[38;5;28;01mraise\u001b[39;00m \u001b[38;5;167;01mRuntimeError\u001b[39;00m(\u001b[38;5;124m'\u001b[39m\u001b[38;5;124mError(s) in loading state_dict for \u001b[39m\u001b[38;5;132;01m{}\u001b[39;00m\u001b[38;5;124m:\u001b[39m\u001b[38;5;130;01m\\n\u001b[39;00m\u001b[38;5;130;01m\\t\u001b[39;00m\u001b[38;5;132;01m{}\u001b[39;00m\u001b[38;5;124m'\u001b[39m\u001b[38;5;241m.\u001b[39mformat(\n\u001b[1;32m   2154\u001b[0m                        \u001b[38;5;28mself\u001b[39m\u001b[38;5;241m.\u001b[39m\u001b[38;5;18m__class__\u001b[39m\u001b[38;5;241m.\u001b[39m\u001b[38;5;18m__name__\u001b[39m, \u001b[38;5;124m\"\u001b[39m\u001b[38;5;130;01m\\n\u001b[39;00m\u001b[38;5;130;01m\\t\u001b[39;00m\u001b[38;5;124m\"\u001b[39m\u001b[38;5;241m.\u001b[39mjoin(error_msgs)))\n\u001b[1;32m   2155\u001b[0m \u001b[38;5;28;01mreturn\u001b[39;00m _IncompatibleKeys(missing_keys, unexpected_keys)\n",
      "\u001b[0;31mRuntimeError\u001b[0m: Error(s) in loading state_dict for LSTM:\n\tsize mismatch for fc.weight: copying a param with shape torch.Size([13, 114800]) from checkpoint, the shape in current model is torch.Size([15, 114800]).\n\tsize mismatch for fc.bias: copying a param with shape torch.Size([13]) from checkpoint, the shape in current model is torch.Size([15])."
     ]
    }
   ],
   "source": [
    "num_layers = 4\n",
    "hidden_size = 50\n",
    "# Input_size = n filter\n",
    "input_size = train_dataset[0][0].shape[1]\n",
    "# Séquence length = padding = 2296\n",
    "sequence_length = train_dataset[0][0].shape[0]\n",
    "num_classes = 4\n",
    "dropout = 0.2\n",
    "lr = 0.001\n",
    "num_epochs = 5\n",
    "\n",
    "lstm = LSTM(input_size, hidden_size, num_layers, num_classes, sequence_length, dropout)\n",
    "# lstm = torch.load('new-lstm-15epch-15clas-88acc.pth')\n",
    "lstm.load_state_dict(torch.load('new-lstm-15epch-15clas-88acc-weights.pth'))\n",
    "lstm.to(device)\n",
    "\n",
    "criterion = nn.CrossEntropyLoss()\n",
    "optimizer = optim.Adam(lstm.parameters(), lr=lr)\n",
    "train_lstm(lstm, train_loader, optimizer, criterion, epochs=num_epochs)\n"
   ]
  },
  {
   "cell_type": "code",
   "execution_count": null,
   "metadata": {},
   "outputs": [
    {
     "name": "stdout",
     "output_type": "stream",
     "text": [
      "Accuracy: 0.98046875\n"
     ]
    }
   ],
   "source": [
    "test_lstm(lstm, test_loader)"
   ]
  },
  {
   "cell_type": "code",
   "execution_count": null,
   "metadata": {},
   "outputs": [],
   "source": [
    "torch.save(lstm, 'new-lstm-13clas-88acc.pth')"
   ]
  },
  {
   "cell_type": "markdown",
   "metadata": {},
   "source": [
    "Nouvelle fonction de score :\n",
    "- On ne doit avoir que 5 classes qui vont changer la logique du jeu :\n",
    "    - un/deux/trois/quatre\n",
    "    - autre \n",
    "\n",
    "Si on reconnait un chiffre alors on aura soit une réponse bonne ou une réponse mauvaise \n",
    "Par contre, si on ne reconnait pas un chiffre alors on aura juste (pas de réponse donnée ou réponse non reconnu)\n",
    "On va donc agréger beaucoup de classe entre elle et le but sera de tester par rapport à ces 5 classes\n",
    "\n",
    "```map = {\n",
    "    'un': 1,\n",
    "    'deux': 2,\n",
    "    'trois': 3,\n",
    "    'quatre': 4,\n",
    "    'cinq': 5,\n",
    "    'six': 6,\n",
    "    'sept': 7,\n",
    "    'huit': 8,\n",
    "    'neuf': 9,\n",
    "    'oui': 10,\n",
    "    'non': 11,\n",
    "    'Firefox': 12,\n",
    "    'Hey': 13,\n",
    "    'zéro': 14,\n",
    "    'null': 15,\n",
    "}\n",
    "```\n",
    "\n"
   ]
  },
  {
   "cell_type": "code",
   "execution_count": null,
   "metadata": {},
   "outputs": [],
   "source": [
    "new_map = {\n",
    "    1: 1,  \n",
    "    2: 2,  \n",
    "    3: 3,  \n",
    "    4: 4,  \n",
    "    5: 5,  \n",
    "    6: 5,\n",
    "    7: 5,\n",
    "    8: 5,\n",
    "    9: 5,\n",
    "    10: 5,\n",
    "    11: 5,\n",
    "    12: 5,\n",
    "    13: 5,\n",
    "    14: 5,\n",
    "}\n",
    "\n",
    "def remap_labels(labels, new_map):\n",
    "    return torch.tensor([new_map[label.item()] for label in labels], dtype=torch.long)\n",
    "\n",
    "def new_test_lstm(model, test_loader, new_map):\n",
    "    with torch.no_grad():\n",
    "        acc_total = 0\n",
    "        model.eval()\n",
    "        for spectrograms, labels in test_loader:\n",
    "            spectrograms = spectrograms.to(device)\n",
    "            labels = labels.to(device)\n",
    "            \n",
    "            remapped_labels = remap_labels(labels, new_map)\n",
    "            outputs = model(spectrograms)\n",
    "            _, predicted = torch.max(outputs, 1)\n",
    "\n",
    "            remapped_predicted = remap_labels(predicted, new_map)\n",
    "            acc_total += (remapped_predicted == remapped_labels).sum().item() / len(labels)\n",
    "        \n",
    "        print(f\"Accuracy: {acc_total / len(test_loader)}\")"
   ]
  },
  {
   "cell_type": "code",
   "execution_count": null,
   "metadata": {},
   "outputs": [
    {
     "ename": "RuntimeError",
     "evalue": "Placeholder storage has not been allocated on MPS device!",
     "output_type": "error",
     "traceback": [
      "\u001b[0;31m---------------------------------------------------------------------------\u001b[0m",
      "\u001b[0;31mRuntimeError\u001b[0m                              Traceback (most recent call last)",
      "Cell \u001b[0;32mIn[134], line 1\u001b[0m\n\u001b[0;32m----> 1\u001b[0m \u001b[43mnew_test_lstm\u001b[49m\u001b[43m(\u001b[49m\u001b[43mlstm\u001b[49m\u001b[43m,\u001b[49m\u001b[43m \u001b[49m\u001b[43mtest_loader\u001b[49m\u001b[43m,\u001b[49m\u001b[43m \u001b[49m\u001b[43mnew_map\u001b[49m\u001b[43m)\u001b[49m\n",
      "Cell \u001b[0;32mIn[117], line 30\u001b[0m, in \u001b[0;36mnew_test_lstm\u001b[0;34m(model, test_loader, new_map)\u001b[0m\n\u001b[1;32m     27\u001b[0m labels \u001b[38;5;241m=\u001b[39m labels\u001b[38;5;241m.\u001b[39mto(device)\n\u001b[1;32m     29\u001b[0m remapped_labels \u001b[38;5;241m=\u001b[39m remap_labels(labels, new_map)\n\u001b[0;32m---> 30\u001b[0m outputs \u001b[38;5;241m=\u001b[39m \u001b[43mmodel\u001b[49m\u001b[43m(\u001b[49m\u001b[43mspectrograms\u001b[49m\u001b[43m)\u001b[49m\n\u001b[1;32m     31\u001b[0m _, predicted \u001b[38;5;241m=\u001b[39m torch\u001b[38;5;241m.\u001b[39mmax(outputs, \u001b[38;5;241m1\u001b[39m)\n\u001b[1;32m     33\u001b[0m remapped_predicted \u001b[38;5;241m=\u001b[39m remap_labels(predicted, new_map)\n",
      "File \u001b[0;32m~/.pyenv/versions/3.11.8/lib/python3.11/site-packages/torch/nn/modules/module.py:1511\u001b[0m, in \u001b[0;36mModule._wrapped_call_impl\u001b[0;34m(self, *args, **kwargs)\u001b[0m\n\u001b[1;32m   1509\u001b[0m     \u001b[38;5;28;01mreturn\u001b[39;00m \u001b[38;5;28mself\u001b[39m\u001b[38;5;241m.\u001b[39m_compiled_call_impl(\u001b[38;5;241m*\u001b[39margs, \u001b[38;5;241m*\u001b[39m\u001b[38;5;241m*\u001b[39mkwargs)  \u001b[38;5;66;03m# type: ignore[misc]\u001b[39;00m\n\u001b[1;32m   1510\u001b[0m \u001b[38;5;28;01melse\u001b[39;00m:\n\u001b[0;32m-> 1511\u001b[0m     \u001b[38;5;28;01mreturn\u001b[39;00m \u001b[38;5;28;43mself\u001b[39;49m\u001b[38;5;241;43m.\u001b[39;49m\u001b[43m_call_impl\u001b[49m\u001b[43m(\u001b[49m\u001b[38;5;241;43m*\u001b[39;49m\u001b[43margs\u001b[49m\u001b[43m,\u001b[49m\u001b[43m \u001b[49m\u001b[38;5;241;43m*\u001b[39;49m\u001b[38;5;241;43m*\u001b[39;49m\u001b[43mkwargs\u001b[49m\u001b[43m)\u001b[49m\n",
      "File \u001b[0;32m~/.pyenv/versions/3.11.8/lib/python3.11/site-packages/torch/nn/modules/module.py:1520\u001b[0m, in \u001b[0;36mModule._call_impl\u001b[0;34m(self, *args, **kwargs)\u001b[0m\n\u001b[1;32m   1515\u001b[0m \u001b[38;5;66;03m# If we don't have any hooks, we want to skip the rest of the logic in\u001b[39;00m\n\u001b[1;32m   1516\u001b[0m \u001b[38;5;66;03m# this function, and just call forward.\u001b[39;00m\n\u001b[1;32m   1517\u001b[0m \u001b[38;5;28;01mif\u001b[39;00m \u001b[38;5;129;01mnot\u001b[39;00m (\u001b[38;5;28mself\u001b[39m\u001b[38;5;241m.\u001b[39m_backward_hooks \u001b[38;5;129;01mor\u001b[39;00m \u001b[38;5;28mself\u001b[39m\u001b[38;5;241m.\u001b[39m_backward_pre_hooks \u001b[38;5;129;01mor\u001b[39;00m \u001b[38;5;28mself\u001b[39m\u001b[38;5;241m.\u001b[39m_forward_hooks \u001b[38;5;129;01mor\u001b[39;00m \u001b[38;5;28mself\u001b[39m\u001b[38;5;241m.\u001b[39m_forward_pre_hooks\n\u001b[1;32m   1518\u001b[0m         \u001b[38;5;129;01mor\u001b[39;00m _global_backward_pre_hooks \u001b[38;5;129;01mor\u001b[39;00m _global_backward_hooks\n\u001b[1;32m   1519\u001b[0m         \u001b[38;5;129;01mor\u001b[39;00m _global_forward_hooks \u001b[38;5;129;01mor\u001b[39;00m _global_forward_pre_hooks):\n\u001b[0;32m-> 1520\u001b[0m     \u001b[38;5;28;01mreturn\u001b[39;00m \u001b[43mforward_call\u001b[49m\u001b[43m(\u001b[49m\u001b[38;5;241;43m*\u001b[39;49m\u001b[43margs\u001b[49m\u001b[43m,\u001b[49m\u001b[43m \u001b[49m\u001b[38;5;241;43m*\u001b[39;49m\u001b[38;5;241;43m*\u001b[39;49m\u001b[43mkwargs\u001b[49m\u001b[43m)\u001b[49m\n\u001b[1;32m   1522\u001b[0m \u001b[38;5;28;01mtry\u001b[39;00m:\n\u001b[1;32m   1523\u001b[0m     result \u001b[38;5;241m=\u001b[39m \u001b[38;5;28;01mNone\u001b[39;00m\n",
      "Cell \u001b[0;32mIn[103], line 18\u001b[0m, in \u001b[0;36mLSTM.forward\u001b[0;34m(self, x)\u001b[0m\n\u001b[1;32m     15\u001b[0m h0 \u001b[38;5;241m=\u001b[39m torch\u001b[38;5;241m.\u001b[39mzeros(\u001b[38;5;28mself\u001b[39m\u001b[38;5;241m.\u001b[39mnum_layers, x\u001b[38;5;241m.\u001b[39msize(\u001b[38;5;241m0\u001b[39m), \u001b[38;5;28mself\u001b[39m\u001b[38;5;241m.\u001b[39mhidden_size)\u001b[38;5;241m.\u001b[39mto(device)\n\u001b[1;32m     16\u001b[0m c0 \u001b[38;5;241m=\u001b[39m torch\u001b[38;5;241m.\u001b[39mzeros(\u001b[38;5;28mself\u001b[39m\u001b[38;5;241m.\u001b[39mnum_layers, x\u001b[38;5;241m.\u001b[39msize(\u001b[38;5;241m0\u001b[39m), \u001b[38;5;28mself\u001b[39m\u001b[38;5;241m.\u001b[39mhidden_size)\u001b[38;5;241m.\u001b[39mto(device)\n\u001b[0;32m---> 18\u001b[0m out, (_,_) \u001b[38;5;241m=\u001b[39m \u001b[38;5;28;43mself\u001b[39;49m\u001b[38;5;241;43m.\u001b[39;49m\u001b[43mlstm\u001b[49m\u001b[43m(\u001b[49m\u001b[43mx\u001b[49m\u001b[43m,\u001b[49m\u001b[43m \u001b[49m\u001b[43m(\u001b[49m\u001b[43mh0\u001b[49m\u001b[43m,\u001b[49m\u001b[43m \u001b[49m\u001b[43mc0\u001b[49m\u001b[43m)\u001b[49m\u001b[43m)\u001b[49m\n\u001b[1;32m     19\u001b[0m \u001b[38;5;66;03m# out = self.fc(out[:, -1, :])\u001b[39;00m\n\u001b[1;32m     20\u001b[0m out \u001b[38;5;241m=\u001b[39m out\u001b[38;5;241m.\u001b[39mreshape(out\u001b[38;5;241m.\u001b[39mshape[\u001b[38;5;241m0\u001b[39m], \u001b[38;5;241m-\u001b[39m\u001b[38;5;241m1\u001b[39m)\n",
      "File \u001b[0;32m~/.pyenv/versions/3.11.8/lib/python3.11/site-packages/torch/nn/modules/module.py:1511\u001b[0m, in \u001b[0;36mModule._wrapped_call_impl\u001b[0;34m(self, *args, **kwargs)\u001b[0m\n\u001b[1;32m   1509\u001b[0m     \u001b[38;5;28;01mreturn\u001b[39;00m \u001b[38;5;28mself\u001b[39m\u001b[38;5;241m.\u001b[39m_compiled_call_impl(\u001b[38;5;241m*\u001b[39margs, \u001b[38;5;241m*\u001b[39m\u001b[38;5;241m*\u001b[39mkwargs)  \u001b[38;5;66;03m# type: ignore[misc]\u001b[39;00m\n\u001b[1;32m   1510\u001b[0m \u001b[38;5;28;01melse\u001b[39;00m:\n\u001b[0;32m-> 1511\u001b[0m     \u001b[38;5;28;01mreturn\u001b[39;00m \u001b[38;5;28;43mself\u001b[39;49m\u001b[38;5;241;43m.\u001b[39;49m\u001b[43m_call_impl\u001b[49m\u001b[43m(\u001b[49m\u001b[38;5;241;43m*\u001b[39;49m\u001b[43margs\u001b[49m\u001b[43m,\u001b[49m\u001b[43m \u001b[49m\u001b[38;5;241;43m*\u001b[39;49m\u001b[38;5;241;43m*\u001b[39;49m\u001b[43mkwargs\u001b[49m\u001b[43m)\u001b[49m\n",
      "File \u001b[0;32m~/.pyenv/versions/3.11.8/lib/python3.11/site-packages/torch/nn/modules/module.py:1520\u001b[0m, in \u001b[0;36mModule._call_impl\u001b[0;34m(self, *args, **kwargs)\u001b[0m\n\u001b[1;32m   1515\u001b[0m \u001b[38;5;66;03m# If we don't have any hooks, we want to skip the rest of the logic in\u001b[39;00m\n\u001b[1;32m   1516\u001b[0m \u001b[38;5;66;03m# this function, and just call forward.\u001b[39;00m\n\u001b[1;32m   1517\u001b[0m \u001b[38;5;28;01mif\u001b[39;00m \u001b[38;5;129;01mnot\u001b[39;00m (\u001b[38;5;28mself\u001b[39m\u001b[38;5;241m.\u001b[39m_backward_hooks \u001b[38;5;129;01mor\u001b[39;00m \u001b[38;5;28mself\u001b[39m\u001b[38;5;241m.\u001b[39m_backward_pre_hooks \u001b[38;5;129;01mor\u001b[39;00m \u001b[38;5;28mself\u001b[39m\u001b[38;5;241m.\u001b[39m_forward_hooks \u001b[38;5;129;01mor\u001b[39;00m \u001b[38;5;28mself\u001b[39m\u001b[38;5;241m.\u001b[39m_forward_pre_hooks\n\u001b[1;32m   1518\u001b[0m         \u001b[38;5;129;01mor\u001b[39;00m _global_backward_pre_hooks \u001b[38;5;129;01mor\u001b[39;00m _global_backward_hooks\n\u001b[1;32m   1519\u001b[0m         \u001b[38;5;129;01mor\u001b[39;00m _global_forward_hooks \u001b[38;5;129;01mor\u001b[39;00m _global_forward_pre_hooks):\n\u001b[0;32m-> 1520\u001b[0m     \u001b[38;5;28;01mreturn\u001b[39;00m \u001b[43mforward_call\u001b[49m\u001b[43m(\u001b[49m\u001b[38;5;241;43m*\u001b[39;49m\u001b[43margs\u001b[49m\u001b[43m,\u001b[49m\u001b[43m \u001b[49m\u001b[38;5;241;43m*\u001b[39;49m\u001b[38;5;241;43m*\u001b[39;49m\u001b[43mkwargs\u001b[49m\u001b[43m)\u001b[49m\n\u001b[1;32m   1522\u001b[0m \u001b[38;5;28;01mtry\u001b[39;00m:\n\u001b[1;32m   1523\u001b[0m     result \u001b[38;5;241m=\u001b[39m \u001b[38;5;28;01mNone\u001b[39;00m\n",
      "File \u001b[0;32m~/.pyenv/versions/3.11.8/lib/python3.11/site-packages/torch/nn/modules/rnn.py:878\u001b[0m, in \u001b[0;36mLSTM.forward\u001b[0;34m(self, input, hx)\u001b[0m\n\u001b[1;32m    875\u001b[0m         hx \u001b[38;5;241m=\u001b[39m \u001b[38;5;28mself\u001b[39m\u001b[38;5;241m.\u001b[39mpermute_hidden(hx, sorted_indices)\n\u001b[1;32m    877\u001b[0m \u001b[38;5;28;01mif\u001b[39;00m batch_sizes \u001b[38;5;129;01mis\u001b[39;00m \u001b[38;5;28;01mNone\u001b[39;00m:\n\u001b[0;32m--> 878\u001b[0m     result \u001b[38;5;241m=\u001b[39m \u001b[43m_VF\u001b[49m\u001b[38;5;241;43m.\u001b[39;49m\u001b[43mlstm\u001b[49m\u001b[43m(\u001b[49m\u001b[38;5;28;43minput\u001b[39;49m\u001b[43m,\u001b[49m\u001b[43m \u001b[49m\u001b[43mhx\u001b[49m\u001b[43m,\u001b[49m\u001b[43m \u001b[49m\u001b[38;5;28;43mself\u001b[39;49m\u001b[38;5;241;43m.\u001b[39;49m\u001b[43m_flat_weights\u001b[49m\u001b[43m,\u001b[49m\u001b[43m \u001b[49m\u001b[38;5;28;43mself\u001b[39;49m\u001b[38;5;241;43m.\u001b[39;49m\u001b[43mbias\u001b[49m\u001b[43m,\u001b[49m\u001b[43m \u001b[49m\u001b[38;5;28;43mself\u001b[39;49m\u001b[38;5;241;43m.\u001b[39;49m\u001b[43mnum_layers\u001b[49m\u001b[43m,\u001b[49m\n\u001b[1;32m    879\u001b[0m \u001b[43m                      \u001b[49m\u001b[38;5;28;43mself\u001b[39;49m\u001b[38;5;241;43m.\u001b[39;49m\u001b[43mdropout\u001b[49m\u001b[43m,\u001b[49m\u001b[43m \u001b[49m\u001b[38;5;28;43mself\u001b[39;49m\u001b[38;5;241;43m.\u001b[39;49m\u001b[43mtraining\u001b[49m\u001b[43m,\u001b[49m\u001b[43m \u001b[49m\u001b[38;5;28;43mself\u001b[39;49m\u001b[38;5;241;43m.\u001b[39;49m\u001b[43mbidirectional\u001b[49m\u001b[43m,\u001b[49m\u001b[43m \u001b[49m\u001b[38;5;28;43mself\u001b[39;49m\u001b[38;5;241;43m.\u001b[39;49m\u001b[43mbatch_first\u001b[49m\u001b[43m)\u001b[49m\n\u001b[1;32m    880\u001b[0m \u001b[38;5;28;01melse\u001b[39;00m:\n\u001b[1;32m    881\u001b[0m     result \u001b[38;5;241m=\u001b[39m _VF\u001b[38;5;241m.\u001b[39mlstm(\u001b[38;5;28minput\u001b[39m, batch_sizes, hx, \u001b[38;5;28mself\u001b[39m\u001b[38;5;241m.\u001b[39m_flat_weights, \u001b[38;5;28mself\u001b[39m\u001b[38;5;241m.\u001b[39mbias,\n\u001b[1;32m    882\u001b[0m                       \u001b[38;5;28mself\u001b[39m\u001b[38;5;241m.\u001b[39mnum_layers, \u001b[38;5;28mself\u001b[39m\u001b[38;5;241m.\u001b[39mdropout, \u001b[38;5;28mself\u001b[39m\u001b[38;5;241m.\u001b[39mtraining, \u001b[38;5;28mself\u001b[39m\u001b[38;5;241m.\u001b[39mbidirectional)\n",
      "\u001b[0;31mRuntimeError\u001b[0m: Placeholder storage has not been allocated on MPS device!"
     ]
    }
   ],
   "source": [
    "new_test_lstm(lstm, test_loader, new_map)"
   ]
  },
  {
   "cell_type": "code",
   "execution_count": null,
   "metadata": {},
   "outputs": [],
   "source": [
    "torch.save(lstm.state_dict(),'new-lstm-subset-2-1.pth')"
   ]
  }
 ],
 "metadata": {
  "kernelspec": {
   "display_name": "Python 3",
   "language": "python",
   "name": "python3"
  },
  "language_info": {
   "codemirror_mode": {
    "name": "ipython",
    "version": 3
   },
   "file_extension": ".py",
   "mimetype": "text/x-python",
   "name": "python",
   "nbconvert_exporter": "python",
   "pygments_lexer": "ipython3",
   "version": "3.11.8"
  }
 },
 "nbformat": 4,
 "nbformat_minor": 2
}
