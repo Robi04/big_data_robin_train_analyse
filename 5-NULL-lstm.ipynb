{
 "cells": [
  {
   "cell_type": "markdown",
   "metadata": {},
   "source": [
    "### Import des lib"
   ]
  },
  {
   "cell_type": "code",
   "execution_count": 46,
   "metadata": {},
   "outputs": [],
   "source": [
    "import csv\n",
    "import os\n",
    "from pathlib import Path\n",
    "\n",
    "import torch\n",
    "from torch import Tensor\n",
    "import torch.nn as nn\n",
    "from torch import optim\n",
    "import torch.nn.functional as F\n",
    "from typing import Dict, List, Tuple, Union\n",
    "\n",
    "from torch.utils.data import Dataset,DataLoader\n",
    "import torchvision.datasets as datasets\n",
    "import torchvision.transforms as transforms\n",
    "\n",
    "from torchaudio.transforms import MelSpectrogram\n",
    "import torchaudio\n",
    "\n",
    "import pandas as pd\n",
    "import numpy as np\n",
    "import matplotlib.pyplot as plt"
   ]
  },
  {
   "cell_type": "markdown",
   "metadata": {},
   "source": [
    "### Dataset\n",
    "#### Création d'un custom dataset pour les données audio qui permette de convertir les fichiers audio en en waveform\n",
    "Documentation Pytorch pour le dataset Common Voice de Mozilla adapté pour le format du dataset segment word"
   ]
  },
  {
   "cell_type": "code",
   "execution_count": 47,
   "metadata": {},
   "outputs": [],
   "source": [
    "def load_commonvoice_item(\n",
    "    line: List[str], header: List[str], path: str, folder_audio: str, ext_audio: str\n",
    ") -> Tuple[Tensor, int, Dict[str, str]]:\n",
    "    # Each line as the following data:\n",
    "    # client_id, path, sentence, up_votes, down_votes, age, gender, accent\n",
    "\n",
    "    if header[1] != \"path\":\n",
    "        raise ValueError(f\"expect `header[1]` to be 'path', but got {header[1]}\")\n",
    "    fileid = line[1]\n",
    "    filename = os.path.join(path, folder_audio, fileid)\n",
    "    if not filename.endswith(ext_audio):\n",
    "        filename += ext_audio\n",
    "    waveform, sample_rate = torchaudio.load(filename)\n",
    "\n",
    "    dic = dict(zip(header, line))\n",
    "    return waveform, sample_rate, dic\n",
    "\n",
    "class COMMONVOICE(Dataset):\n",
    "    _ext_audio = \".mp3\"\n",
    "    _folder_audio = \"clips\"\n",
    "\n",
    "    def __init__(self, root: Union[str, Path], tsv: str = \"train.tsv\", transform=None):\n",
    "        self._path = os.fspath(root)\n",
    "        self._tsv = os.path.join(self._path, tsv)\n",
    "        with open(self._tsv, \"r\") as tsv_:\n",
    "            walker = csv.reader(tsv_, delimiter=\"\\t\")\n",
    "            self._header = next(walker)\n",
    "            self._walker = [row for row in walker if row[self._header.index('sentence')] not in  ['Hey','Firefox','zéro','cinq','six','sept','huit','neuf', 'oui','non']]\n",
    "        self.transform = transform or MelSpectrogram()\n",
    "\n",
    "    def __getitem__(self, n: int) -> Tuple[torch.Tensor, str]:\n",
    "        line = self._walker[n]\n",
    "        waveform, _, dic = load_commonvoice_item(line, self._header, self._path, self._folder_audio, self._ext_audio)\n",
    "        spectrogram = self.transform(waveform).squeeze(0)  # Apply transformation and remove channel dim\n",
    "        label = dic[\"sentence\"]\n",
    "        return spectrogram, label\n",
    "\n",
    "    def __len__(self) -> int:\n",
    "        return len(self._walker)\n",
    "\n",
    "\n",
    "transform = MelSpectrogram(sample_rate=48000, n_mels=40, n_fft=512, hop_length=256)\n",
    "\n",
    "train_dataset = COMMONVOICE(root=\"./data/cv-corpus-7.0-singleword/fr\", tsv=\"train.tsv\", transform=transform)\n",
    "test_dataset = COMMONVOICE(root=\"./data/cv-corpus-7.0-singleword/fr\", tsv=\"test.tsv\", transform=transform)\n"
   ]
  },
  {
   "cell_type": "markdown",
   "metadata": {},
   "source": [
    "### On va faire un peu d'analyse sur notre cas "
   ]
  },
  {
   "cell_type": "code",
   "execution_count": 48,
   "metadata": {},
   "outputs": [
    {
     "name": "stdout",
     "output_type": "stream",
     "text": [
      "2476\n",
      "1633\n"
     ]
    }
   ],
   "source": [
    "print(len(train_dataset))\n",
    "print(len(test_dataset))\n"
   ]
  },
  {
   "cell_type": "markdown",
   "metadata": {},
   "source": [
    "train_dataset[0]"
   ]
  },
  {
   "cell_type": "code",
   "execution_count": 49,
   "metadata": {},
   "outputs": [
    {
     "name": "stdout",
     "output_type": "stream",
     "text": [
      "Type: <class 'tuple'>\n",
      "Len: 2\n",
      "Information: (tensor([[1.7347e-17, 4.0429e-14, 1.2759e-13,  ..., 1.3268e-08, 2.5376e-10,\n",
      "         8.7066e-15],\n",
      "        [1.4316e-17, 4.5047e-14, 1.0819e-13,  ..., 2.0457e-08, 5.3971e-10,\n",
      "         2.2737e-14],\n",
      "        [3.1239e-18, 4.2344e-14, 6.3341e-14,  ..., 2.9987e-08, 1.2690e-09,\n",
      "         5.3724e-14],\n",
      "        ...,\n",
      "        [3.7121e-20, 1.7319e-17, 3.5030e-17,  ..., 9.4666e-14, 6.9060e-14,\n",
      "         2.3212e-15],\n",
      "        [1.0889e-22, 3.0891e-21, 1.0275e-19,  ..., 3.5403e-17, 5.6377e-18,\n",
      "         5.8499e-19],\n",
      "        [3.4923e-23, 1.1659e-21, 1.0599e-19,  ..., 2.0608e-17, 4.8907e-18,\n",
      "         2.3140e-19]]), 'trois')\n"
     ]
    }
   ],
   "source": [
    "print(f\"Type: {type(train_dataset[0])}\")\n",
    "print(f\"Len: {len(train_dataset[0])}\")\n",
    "print(f\"Information: {train_dataset[0]}\")"
   ]
  },
  {
   "cell_type": "markdown",
   "metadata": {},
   "source": [
    "### Information train set"
   ]
  },
  {
   "cell_type": "code",
   "execution_count": 50,
   "metadata": {},
   "outputs": [
    {
     "name": "stdout",
     "output_type": "stream",
     "text": [
      "----------------------------------\n",
      "Information test_dataset[0][0] (spectrogram) 2 dim\n",
      "Type: <class 'torch.Tensor'>\n",
      "Len: 40\n",
      "torch.Size([40, 347])\n",
      "tensor([[4.9696e-18, 1.6902e-15, 1.2306e-13,  ..., 7.3587e-07, 5.7591e-06,\n",
      "         3.1783e-06],\n",
      "        [4.4137e-18, 2.0254e-14, 2.7674e-13,  ..., 3.6807e-06, 7.7680e-06,\n",
      "         3.5848e-06],\n",
      "        [2.0248e-18, 6.8738e-14, 4.7718e-13,  ..., 8.6291e-06, 1.7162e-05,\n",
      "         3.2527e-06],\n",
      "        ...,\n",
      "        [5.6878e-24, 1.9430e-22, 9.5982e-21,  ..., 4.1816e-13, 4.2136e-13,\n",
      "         1.3651e-12],\n",
      "        [5.9575e-24, 1.1512e-22, 1.1138e-20,  ..., 2.7564e-13, 5.2790e-13,\n",
      "         1.8132e-12],\n",
      "        [1.0310e-23, 1.1297e-22, 1.0687e-20,  ..., 3.7662e-13, 3.4585e-13,\n",
      "         2.5475e-12]])\n",
      "\n",
      "----------------------------------\n",
      "Information train_dataset[0][1]\n",
      "<class 'str'>\n",
      "quatre\n",
      "\n",
      "----------------------------------\n",
      "Information train_dataset[0][0][0]\n",
      "Type: <class 'torch.Tensor'>\n",
      "Len: 347\n",
      "Shape: torch.Size([347])\n"
     ]
    }
   ],
   "source": [
    "print(\"----------------------------------\\nInformation test_dataset[0][0] (spectrogram) 2 dim\")\n",
    "print(f\"Type: {type(train_dataset[2000][0])}\")\n",
    "print(f\"Len: {len(train_dataset[2000][0])}\")\n",
    "print(train_dataset[2000][0].shape)\n",
    "print(train_dataset[2000][0])\n",
    "\n",
    "print(\"\\n----------------------------------\\nInformation train_dataset[0][1]\")\n",
    "print(type(train_dataset[2000][1]))\n",
    "print(train_dataset[2000][1])\n",
    "\n",
    "print(\"\\n----------------------------------\\nInformation train_dataset[0][0][0]\")\n",
    "print(f\"Type: {type(train_dataset[2000][0][0])}\")\n",
    "print(f\"Len: {len(train_dataset[2000][0][0])}\")\n",
    "print(f\"Shape: {train_dataset[2000][0][0].shape}\")\n"
   ]
  },
  {
   "cell_type": "markdown",
   "metadata": {},
   "source": [
    "### Information test Set"
   ]
  },
  {
   "cell_type": "code",
   "execution_count": 51,
   "metadata": {},
   "outputs": [
    {
     "name": "stdout",
     "output_type": "stream",
     "text": [
      "----------------------------------\n",
      "Information test_dataset[0][0] (spectrogram) 2 dim\n",
      "Type: <class 'torch.Tensor'>\n",
      "Len: 40\n",
      "torch.Size([40, 586])\n",
      "tensor([[1.0754e-22, 3.3921e-17, 7.2511e-16,  ..., 3.5823e-03, 3.8992e-04,\n",
      "         7.6389e-05],\n",
      "        [1.0576e-22, 3.3387e-17, 8.1298e-16,  ..., 3.8282e-03, 8.5377e-04,\n",
      "         1.3530e-04],\n",
      "        [7.2006e-23, 1.8899e-17, 6.6264e-16,  ..., 2.8965e-03, 1.5084e-03,\n",
      "         2.5431e-04],\n",
      "        ...,\n",
      "        [1.3781e-26, 6.8235e-25, 2.0681e-24,  ..., 1.7314e-12, 7.8913e-12,\n",
      "         3.2655e-08],\n",
      "        [5.6890e-27, 2.6357e-25, 8.8249e-25,  ..., 2.6694e-13, 3.2489e-13,\n",
      "         7.3257e-09],\n",
      "        [6.6815e-27, 2.1177e-25, 1.1318e-24,  ..., 2.1353e-13, 2.9736e-13,\n",
      "         3.9848e-09]])\n",
      "\n",
      "----------------------------------\n",
      "Information test_dataset[0][1]\n",
      "<class 'str'>\n",
      "trois\n",
      "\n",
      "----------------------------------\n",
      "Information test_dataset[0][0][0]\n",
      "Type: <class 'torch.Tensor'>\n",
      "Len: 586\n",
      "Shape: torch.Size([586])\n"
     ]
    }
   ],
   "source": [
    "print(\"----------------------------------\\nInformation test_dataset[0][0] (spectrogram) 2 dim\")\n",
    "print(f\"Type: {type(test_dataset[0][0])}\")\n",
    "print(f\"Len: {len(test_dataset[0][0])}\")\n",
    "print(test_dataset[0][0].shape)\n",
    "print(test_dataset[0][0])\n",
    "\n",
    "print(\"\\n----------------------------------\\nInformation test_dataset[0][1]\")\n",
    "print(type(test_dataset[0][1]))\n",
    "print(test_dataset[0][1])\n",
    "\n",
    "print(\"\\n----------------------------------\\nInformation test_dataset[0][0][0]\")\n",
    "print(f\"Type: {type(test_dataset[0][0][0])}\")\n",
    "print(f\"Len: {len(test_dataset[0][0][0])}\")\n",
    "print(f\"Shape: {test_dataset[0][0][0].shape}\")\n"
   ]
  },
  {
   "cell_type": "markdown",
   "metadata": {},
   "source": [
    "### Premier spectrogram: test_dataset[0][0]\n",
    "- taille première dim = 40 = nbr de filtre mel\n",
    "- taille deuxième dim = 586 = unité temporelle du fichier audio \n",
    "##### Tensor premier échantillon temporel\"test_dataset[0][0][0]\n",
    "- len = 586\n",
    "\n",
    "### Premier Label: test_dataset[0][1]"
   ]
  },
  {
   "cell_type": "markdown",
   "metadata": {},
   "source": [
    "### Valeur max pour padding \n",
    "On va donc trouver la valeur max de la len de [x][0][0]<br>\n",
    "Ca va représenter notre plus grande valeur temporelle et donc on va pouvoir faire un padding sur ça"
   ]
  },
  {
   "cell_type": "code",
   "execution_count": 52,
   "metadata": {},
   "outputs": [
    {
     "name": "stdout",
     "output_type": "stream",
     "text": [
      "0\n",
      "6\n",
      "8\n",
      "34\n",
      "35\n",
      "57\n",
      "297\n"
     ]
    }
   ],
   "source": [
    "max_train = 0\n",
    "for i in range(len(train_dataset)):\n",
    "    if len(train_dataset[i][0][0]) > max_train:\n",
    "        max_train = len(train_dataset[i][0][0])\n",
    "\n",
    "max_test = 0\n",
    "for i in range(len(test_dataset)):\n",
    "    if len(test_dataset[i][0][0]) > max_test:\n",
    "        print(i)\n",
    "        max_test = len(test_dataset[i][0][0])\n",
    "\n",
    "overall_max = max_test if max_test > max_train else max_train"
   ]
  },
  {
   "attachments": {
    "image.png": {
     "image/png": "[encoded data removed]"
    }
   },
   "cell_type": "markdown",
   "metadata": {},
   "source": [
    "![image.png](attachment:image.png)"
   ]
  },
  {
   "cell_type": "code",
   "execution_count": 53,
   "metadata": {},
   "outputs": [],
   "source": [
    "def pad_tensor(spectrogram, max_width):\n",
    "    # spectrogram shape: [n_mels, time]\n",
    "    current_width = spectrogram.shape[1]\n",
    "    if current_width < max_width:\n",
    "        # Calculate how much padding is needed at the end\n",
    "        padding_needed = max_width - current_width\n",
    "        # Pad the spectrogram\n",
    "        # Pad format (left, right, top, bottom) for 2D tensor\n",
    "        padded_spectrogram = F.pad(spectrogram, (0, padding_needed))\n",
    "    else:\n",
    "        padded_spectrogram = spectrogram\n",
    "    return padded_spectrogram"
   ]
  },
  {
   "cell_type": "code",
   "execution_count": 54,
   "metadata": {},
   "outputs": [],
   "source": [
    "class COMMONVOICE_PADDED(Dataset):\n",
    "    _ext_audio = \".mp3\"\n",
    "    _folder_audio = \"clips\"\n",
    "\n",
    "    def __init__(self, root: Union[str, Path], tsv: str = \"train.tsv\", transform=None, padding_size=overall_max):\n",
    "        self._path = os.fspath(root)\n",
    "        self._tsv = os.path.join(self._path, tsv)\n",
    "        self.padding_size = padding_size\n",
    "        with open(self._tsv, \"r\") as tsv_:\n",
    "            walker = csv.reader(tsv_, delimiter=\"\\t\")\n",
    "            self._header = next(walker)\n",
    "            self._walker = [row for row in walker if row[self._header.index('sentence')] not in  ['Hey','Firefox','zéro','cinq','six','sept','huit','neuf', 'oui','non']]\n",
    "        self.transform = transform or MelSpectrogram()\n",
    "\n",
    "    def __getitem__(self, n: int) -> Tuple[torch.Tensor, str]:\n",
    "        line = self._walker[n]\n",
    "        waveform, _, dic = load_commonvoice_item(line, self._header, self._path, self._folder_audio, self._ext_audio)\n",
    "        spectrogram = self.transform(waveform).squeeze(0)  # Apply transformation and remove channel dim\n",
    "        spectrogram = pad_tensor(spectrogram, self.padding_size)\n",
    "        # spectrogram = spectrogram.transpose(0, 1)\n",
    "        label = dic[\"sentence\"]\n",
    "        return spectrogram, label\n",
    "\n",
    "    def __len__(self) -> int:\n",
    "        return len(self._walker)\n",
    "\n",
    "\n",
    "transform = MelSpectrogram(sample_rate=48000, n_mels=40, n_fft=512, hop_length=256)\n",
    "\n",
    "train_dataset = COMMONVOICE_PADDED(root=\"./data/cv-corpus-7.0-singleword/fr\", tsv=\"train.tsv\", transform=transform, padding_size=overall_max)\n",
    "test_dataset = COMMONVOICE_PADDED(root=\"./data/cv-corpus-7.0-singleword/fr\", tsv=\"test.tsv\", transform=transform, padding_size=overall_max)\n"
   ]
  },
  {
   "cell_type": "code",
   "execution_count": 55,
   "metadata": {},
   "outputs": [
    {
     "name": "stdout",
     "output_type": "stream",
     "text": [
      "torch.Size([40, 2021])\n"
     ]
    }
   ],
   "source": [
    "print(train_dataset[0][0].shape)"
   ]
  },
  {
   "cell_type": "code",
   "execution_count": 56,
   "metadata": {},
   "outputs": [
    {
     "name": "stdout",
     "output_type": "stream",
     "text": [
      "----------------------------------\n",
      "Information test_dataset[0][0] (spectrogram) 2 dim\n",
      "Type: <class 'torch.Tensor'>\n",
      "Len: 40\n",
      "torch.Size([40, 2021])\n",
      "tensor([[1.0754e-22, 3.3921e-17, 7.2511e-16,  ..., 0.0000e+00, 0.0000e+00,\n",
      "         0.0000e+00],\n",
      "        [1.0576e-22, 3.3387e-17, 8.1298e-16,  ..., 0.0000e+00, 0.0000e+00,\n",
      "         0.0000e+00],\n",
      "        [7.2006e-23, 1.8899e-17, 6.6264e-16,  ..., 0.0000e+00, 0.0000e+00,\n",
      "         0.0000e+00],\n",
      "        ...,\n",
      "        [1.3781e-26, 6.8235e-25, 2.0681e-24,  ..., 0.0000e+00, 0.0000e+00,\n",
      "         0.0000e+00],\n",
      "        [5.6890e-27, 2.6357e-25, 8.8249e-25,  ..., 0.0000e+00, 0.0000e+00,\n",
      "         0.0000e+00],\n",
      "        [6.6815e-27, 2.1177e-25, 1.1318e-24,  ..., 0.0000e+00, 0.0000e+00,\n",
      "         0.0000e+00]])\n",
      "\n",
      "----------------------------------\n",
      "Information test_dataset[0][1]\n",
      "<class 'str'>\n",
      "trois\n",
      "\n",
      "----------------------------------\n",
      "Information test_dataset[0][0][0]\n",
      "Type: <class 'torch.Tensor'>\n",
      "Len: 2021\n",
      "Shape: torch.Size([2021])\n"
     ]
    }
   ],
   "source": [
    "print(\"----------------------------------\\nInformation test_dataset[0][0] (spectrogram) 2 dim\")\n",
    "print(f\"Type: {type(test_dataset[0][0])}\")\n",
    "print(f\"Len: {len(test_dataset[0][0])}\")\n",
    "print(test_dataset[0][0].shape)\n",
    "print(test_dataset[0][0])\n",
    "\n",
    "print(\"\\n----------------------------------\\nInformation test_dataset[0][1]\")\n",
    "print(type(test_dataset[0][1]))\n",
    "print(test_dataset[0][1])\n",
    "\n",
    "print(\"\\n----------------------------------\\nInformation test_dataset[0][0][0]\")\n",
    "print(f\"Type: {type(test_dataset[0][0][0])}\")\n",
    "print(f\"Len: {len(test_dataset[0][0][0])}\")\n",
    "print(f\"Shape: {test_dataset[0][0][0].shape}\")"
   ]
  },
  {
   "cell_type": "code",
   "execution_count": 67,
   "metadata": {},
   "outputs": [
    {
     "data": {
      "image/png": "[encoded data removed]",
      "text/plain": [
       "<Figure size 640x480 with 2 Axes>"
      ]
     },
     "metadata": {},
     "output_type": "display_data"
    }
   ],
   "source": [
    "import matplotlib.pyplot as plt\n",
    "import numpy as np\n",
    "import librosa\n",
    "def plot_spectrogram(spectrogram, title=None, ylabel='freq_bin', aspect='auto', xmax=None):\n",
    "    \"\"\"\n",
    "    Plots a spectrogram.\n",
    "    \n",
    "    Parameters:\n",
    "        spectrogram (Tensor): A spectrogram with shape [Frequency, Time].\n",
    "        title (str, optional): Title of the plot.\n",
    "        ylabel (str, optional): Label of the y-axis.\n",
    "        aspect (str, optional): Aspect ratio of the plot.\n",
    "        xmax (int, optional): Maximum value of the x-axis.\n",
    "    \"\"\"\n",
    "    fig, axs = plt.subplots(1, 1)\n",
    "    axs.set_title(title or 'Spectrogram (dB)')\n",
    "    axs.set_ylabel(ylabel)\n",
    "    axs.set_xlabel('frame')\n",
    "    im = axs.imshow(spectrogram, origin='lower', aspect=aspect)\n",
    "    if xmax:\n",
    "        axs.set_xlim((0, xmax))\n",
    "    axs.set_yscale('linear')\n",
    "    fig.colorbar(im, ax=axs, format=\"%+2.0f dB\")\n",
    "    plt.show(block=False)\n",
    "\n",
    "spectrogram_db = torchaudio.transforms.AmplitudeToDB()(train_dataset[297][0])\n",
    "plot_spectrogram(spectrogram_db.numpy(), title='Mel Spectrogram', ylabel='mel freq')\n"
   ]
  },
  {
   "cell_type": "code",
   "execution_count": 58,
   "metadata": {},
   "outputs": [],
   "source": [
    "import torch.nn as nn\n",
    "import torch.nn.functional as F\n",
    "\n",
    "class SimpleCNN(nn.Module):\n",
    "    def __init__(self, num_classes):\n",
    "        super(SimpleCNN, self).__init__()\n",
    "        self.conv1 = nn.Conv2d(32, 16, kernel_size=5, stride=1, padding=1)\n",
    "        self.pool = nn.MaxPool2d(2, 2)\n",
    "        self.conv2 = nn.Conv2d(16, 32, kernel_size=3, stride=1, padding=1)\n",
    "        self.fc1 = nn.Linear(4536, 128)\n",
    "        self.fc2 = nn.Linear(128, num_classes)\n",
    "        self.dropout = nn.Dropout(0.2)\n",
    "\n",
    "    def forward(self, x):\n",
    "        x = self.pool(F.relu(self.conv1(x)))\n",
    "        x = self.dropout(x)\n",
    "        x = self.pool(F.relu(self.conv2(x)))\n",
    "        x = self.dropout(x)\n",
    "        x = torch.flatten(x, 1)  \n",
    "        # print(x.shape)\n",
    "        x = F.relu(self.fc1(x))\n",
    "        x = self.fc2(x)\n",
    "        return x"
   ]
  },
  {
   "cell_type": "code",
   "execution_count": 59,
   "metadata": {},
   "outputs": [],
   "source": [
    "\n",
    "train_data_loader = DataLoader(train_dataset, batch_size=32, shuffle=True, drop_last=True)\n",
    "test_data_loader = DataLoader(train_dataset, batch_size=32, shuffle=True, drop_last=True)\n",
    "\n",
    "\n",
    "cnn = SimpleCNN(num_classes=4)"
   ]
  },
  {
   "cell_type": "code",
   "execution_count": 60,
   "metadata": {},
   "outputs": [],
   "source": [
    "map_test = {\n",
    "    'un': 0,\n",
    "    'deux': 1,\n",
    "    'trois': 2,\n",
    "    'quatre': 3,\n",
    "    # 'oui': 4,\n",
    "    # 'non': 5,\n",
    "}\n",
    "\n",
    "def train(model, train_data_loader, optimizer, criterion):\n",
    "    model.train()\n",
    "    for epoch in range(5):\n",
    "        for batch_idx, (spectrograms, labels) in enumerate(train_data_loader):\n",
    "            optimizer.zero_grad()\n",
    "            outputs =  model(torchaudio.transforms.AmplitudeToDB()(spectrograms))\n",
    "            labels = torch.tensor([map_test[label] for label in labels], dtype=torch.long)\n",
    "            loss = criterion(outputs, labels)\n",
    "            loss.backward()\n",
    "            optimizer.step()\n",
    "            \n",
    "        print(f\"Epoch {epoch+1}: Loss: {loss.item()}\")\n",
    "        \n",
    "optimizer = torch.optim.AdamW(cnn.parameters(), lr=0.01)\n",
    "criterion = nn.CrossEntropyLoss()\n",
    "# train(cnn, train_data_loader, optimizer, criterion)"
   ]
  },
  {
   "cell_type": "code",
   "execution_count": 61,
   "metadata": {},
   "outputs": [],
   "source": [
    "def test(model, test_data_loader):\n",
    "    acc_total = 0\n",
    "    model.eval()\n",
    "    for spectrograms, labels in test_data_loader:\n",
    "        outputs = model(torchaudio.transforms.AmplitudeToDB()(spectrograms))\n",
    "        _, predicted = torch.max(outputs, 1)\n",
    "        labels = torch.tensor([map_test[label] for label in labels], dtype=torch.long)\n",
    "        acc_total += (predicted==labels).sum().item()/len(labels)\n",
    "    print(f\"Accuracy: {acc_total/len(test_data_loader)}\")\n",
    "\n",
    "# test(cnn, test_data_loader)"
   ]
  },
  {
   "cell_type": "code",
   "execution_count": 62,
   "metadata": {},
   "outputs": [],
   "source": [
    "class LSTM(nn.Module):\n",
    "    def __init__(self, input_dim, hidden_dim, num_layers, num_classes):\n",
    "        super(LSTM, self).__init__()\n",
    "        self.hidden_dim = hidden_dim\n",
    "        self.num_layers = num_layers\n",
    "        self.lstm = nn.LSTM(input_size=input_dim, \n",
    "                            hidden_size=hidden_dim, \n",
    "                            num_layers=num_layers, \n",
    "                            batch_first=True,\n",
    "                            dropout=0.5 if num_layers > 1 else 0.0)\n",
    "        self.fc = nn.Linear(hidden_dim, num_classes)\n",
    "\n",
    "    def forward(self, x):\n",
    "        # Hidden cells\n",
    "        h0 = torch.zeros(self.num_layers, x.size(0), self.hidden_dim).to(x.device)\n",
    "        # Cell states\n",
    "        c0 = torch.zeros(self.num_layers, x.size(0), self.hidden_dim).to(x.device)\n",
    "        \n",
    "        # Out: tensor of shape (batch_size, seq_length, hidden_dim)\n",
    "        out, _ = self.lstm(x, (h0, c0))  \n",
    "\n",
    "        # Decode the hidden state of the last time step\n",
    "        out = self.fc(out[:, -1, :])\n",
    "        return out"
   ]
  },
  {
   "cell_type": "code",
   "execution_count": 64,
   "metadata": {},
   "outputs": [
    {
     "name": "stdout",
     "output_type": "stream",
     "text": [
      "tensor([[ 0.0365,  0.0224, -0.0014,  0.0534]], grad_fn=<AddmmBackward0>)\n"
     ]
    }
   ],
   "source": [
    "input_dim = 2021\n",
    "hidden_dim = 256\n",
    "num_layers = 2\n",
    "num_classes = 4\n",
    "lstm = LSTM(input_dim=input_dim, hidden_dim=hidden_dim, num_layers=num_layers, num_classes=num_classes)\n",
    "output = lstm(train_dataset[0][0].unsqueeze(0))\n",
    "print(output)"
   ]
  },
  {
   "cell_type": "code",
   "execution_count": 65,
   "metadata": {},
   "outputs": [
    {
     "name": "stdout",
     "output_type": "stream",
     "text": [
      "Original tensor shape: torch.Size([40, 2021])\n",
      "Unsqueezed tensor shape: torch.Size([1, 40, 2021])\n",
      "Model output: tensor([[0.0349, 0.0103, 0.0024, 0.0619]], grad_fn=<AddmmBackward0>)\n"
     ]
    }
   ],
   "source": [
    "tensor = train_dataset[0][0]  # Assuming this is your spectrogram tensor\n",
    "print(\"Original tensor shape:\", tensor.shape)\n",
    "\n",
    "# Unsqueeze to add a batch dimension\n",
    "input_tensor = tensor.unsqueeze(0)\n",
    "print(\"Unsqueezed tensor shape:\", input_tensor.shape)\n",
    "\n",
    "# Now pass to LSTM\n",
    "output = lstm(input_tensor)\n",
    "print(\"Model output:\", output)"
   ]
  },
  {
   "cell_type": "code",
   "execution_count": 66,
   "metadata": {},
   "outputs": [
    {
     "name": "stdout",
     "output_type": "stream",
     "text": [
      "Epoch 1: Loss: 1.3972713947296143\n",
      "Epoch 2: Loss: 1.391454815864563\n",
      "Epoch 3: Loss: 1.396141767501831\n",
      "Epoch 4: Loss: 1.392049789428711\n",
      "Epoch 5: Loss: 1.3899887800216675\n"
     ]
    }
   ],
   "source": [
    "train(lstm, train_data_loader, optimizer, criterion)"
   ]
  },
  {
   "cell_type": "code",
   "execution_count": null,
   "metadata": {},
   "outputs": [
    {
     "name": "stdout",
     "output_type": "stream",
     "text": [
      "Accuracy: 0.24918831168831168\n"
     ]
    }
   ],
   "source": [
    "test(lstm, test_data_loader)"
   ]
  }
 ],
 "metadata": {
  "kernelspec": {
   "display_name": "Python 3",
   "language": "python",
   "name": "python3"
  },
  "language_info": {
   "codemirror_mode": {
    "name": "ipython",
    "version": 3
   },
   "file_extension": ".py",
   "mimetype": "text/x-python",
   "name": "python",
   "nbconvert_exporter": "python",
   "pygments_lexer": "ipython3",
   "version": "3.11.8"
  }
 },
 "nbformat": 4,
 "nbformat_minor": 2
}
